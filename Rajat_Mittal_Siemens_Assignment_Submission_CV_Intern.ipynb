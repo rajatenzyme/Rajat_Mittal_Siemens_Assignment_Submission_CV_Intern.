{
  "nbformat": 4,
  "nbformat_minor": 0,
  "metadata": {
    "colab": {
      "name": "Rajat_Mittal-Siemens-Assignment-Submission-CV-Intern",
      "provenance": []
    },
    "kernelspec": {
      "name": "python3",
      "display_name": "Python 3"
    },
    "language_info": {
      "name": "python"
    }
  },
  "cells": [
    {
      "cell_type": "markdown",
      "source": [
        "**Rajat Mittal**\n",
        "\n",
        "**rajatmittal2012@gmail.com**\n",
        "\n",
        "**+91 8426878666**\n",
        "\n",
        "**IIT Jammu**\n",
        "\n",
        "**Siemens Intern Assignment**"
      ],
      "metadata": {
        "id": "ZIoCs_fVwV7x"
      }
    },
    {
      "cell_type": "markdown",
      "source": [
        "**--------------------------------------------------------------------------------------------------------------------------------------------**"
      ],
      "metadata": {
        "id": "SB5F1B6_iUt5"
      }
    },
    {
      "cell_type": "markdown",
      "source": [
        "**Question - 1**\n",
        "\n",
        "**Find the approximate change in the value of 1/x^2 when x changes from 2 to 100**"
      ],
      "metadata": {
        "id": "XPRE2zCIeYcB"
      }
    },
    {
      "cell_type": "code",
      "source": [
        "from sympy import * \n",
        "  \n",
        "x, y = symbols('x y')\n",
        "expr = 1/ x**2\n",
        "print(\"Expression : {} \".format(expr))\n",
        "print()\n",
        "   \n",
        "# Using sympy.Derivative() method \n",
        "expr_diff = Derivative(expr, x)  \n",
        "print(expr_diff)\n",
        "print()\n",
        "print(\"Value of Derivative\")\n",
        "derivative_val = expr_diff.doit()\n",
        "derivative_val"
      ],
      "metadata": {
        "colab": {
          "base_uri": "https://localhost:8080/",
          "height": 138
        },
        "id": "eLmr9Cmrw5Ul",
        "outputId": "d0bcb3e6-391a-4491-c0d9-23a101e6abee"
      },
      "execution_count": 5,
      "outputs": [
        {
          "output_type": "stream",
          "name": "stdout",
          "text": [
            "Expression : x**(-2) \n",
            "\n",
            "Derivative(x**(-2), x)\n",
            "\n",
            "Value of Derivative\n"
          ]
        },
        {
          "output_type": "execute_result",
          "data": {
            "text/plain": [
              "-2/x**3"
            ],
            "text/latex": "$\\displaystyle - \\frac{2}{x^{3}}$"
          },
          "metadata": {},
          "execution_count": 5
        }
      ]
    },
    {
      "cell_type": "code",
      "source": [
        "#Calculating the change in value of y when x changes from 2 to 100\n",
        "delta_x = 100 - 2\n",
        "delta_x"
      ],
      "metadata": {
        "colab": {
          "base_uri": "https://localhost:8080/"
        },
        "id": "1v3QboAtxf0k",
        "outputId": "ae7c7d35-34c0-4fd9-a999-a4d787c90aab"
      },
      "execution_count": 6,
      "outputs": [
        {
          "output_type": "execute_result",
          "data": {
            "text/plain": [
              "98"
            ]
          },
          "metadata": {},
          "execution_count": 6
        }
      ]
    },
    {
      "cell_type": "code",
      "source": [
        "#Now calculating the change in y\n",
        "\n",
        "# delta_y = (dy/ dx) * delta_x\n",
        "\n",
        "delta_y  = derivative_val * delta_x\n",
        "delta_y"
      ],
      "metadata": {
        "colab": {
          "base_uri": "https://localhost:8080/",
          "height": 51
        },
        "id": "vIXb8YjJxy2Q",
        "outputId": "48c1b98a-8580-488b-8544-34c9a9423af0"
      },
      "execution_count": 7,
      "outputs": [
        {
          "output_type": "execute_result",
          "data": {
            "text/plain": [
              "-196/x**3"
            ],
            "text/latex": "$\\displaystyle - \\frac{196}{x^{3}}$"
          },
          "metadata": {},
          "execution_count": 7
        }
      ]
    },
    {
      "cell_type": "code",
      "source": [
        "#Now put the value x = 2 in delta_y\n",
        "\n",
        "change = -196 / (2 **3)\n",
        "change"
      ],
      "metadata": {
        "colab": {
          "base_uri": "https://localhost:8080/"
        },
        "id": "FeU3YGXayNoS",
        "outputId": "a138a700-07d3-4d22-d49a-03c6e26f5ae2"
      },
      "execution_count": 8,
      "outputs": [
        {
          "output_type": "execute_result",
          "data": {
            "text/plain": [
              "-24.5"
            ]
          },
          "metadata": {},
          "execution_count": 8
        }
      ]
    },
    {
      "cell_type": "markdown",
      "source": [
        "**Conlcusion (1) :** The apprioximate change will be around 24.5 decrement in 1/x^2 when x will change from 2 to 100."
      ],
      "metadata": {
        "id": "Mu3uGcT96Gav"
      }
    },
    {
      "cell_type": "markdown",
      "source": [
        "**--------------------------------------------------------------------------------------------------------------------------------------------**"
      ],
      "metadata": {
        "id": "B_ILxt8zid38"
      }
    },
    {
      "cell_type": "markdown",
      "source": [
        "**Question 2 -** \n",
        "\n",
        "**Rishi has a total of  590 as currency notes in the denominations of 50,  20 and  10. The ratio of the number of  50 notes and  20 notes is 3:5. If she has a total of 25 notes, how many notes of each denomination she has?**"
      ],
      "metadata": {
        "id": "JEkJDPqag5_2"
      }
    },
    {
      "cell_type": "code",
      "source": [
        "#Given 50 and 20 in ratio 3:5\n",
        "#3x 50rs notes and 5x 20 rs notes\n",
        "#10 rs notes is 25-(3x+5x)=25-8x\n",
        "#amount in 50rs-- 150x\n",
        "#amount in 20rs-- 100x\n",
        "#amount in 10rs-- 250-80x\n",
        "#total =590\n",
        "#150x+100x+250-80x=590\n",
        "#170x=34\n",
        "#x=2\n",
        "#50=3*2=6\n",
        "#20=52=10\n",
        "#10=25-16=9\n",
        "\n",
        "from sympy import symbols, Eq, solve\n",
        "x= symbols('x')\n",
        "number_of_fifty_notes=3*x\n",
        "number_of_twenty_notes=5*x\n",
        "number_of_ten_notes=25-8*x\n",
        "amnt_fifty=150*x\n",
        "amnt_twenty=100*x\n",
        "amnt_ten=250-80*x\n",
        "eq=Eq(amnt_fifty+amnt_twenty+amnt_ten,590)\n",
        "sol=solve(eq)\n",
        "num = int(''.join(map(str,sol)))\n",
        "num\n",
        "print(\"Number of fifty rupees notes={}, Number of twenty rupees notes={}, number of ten rupees notes={}\".format(3*num,5*num,(25-8*num)))"
      ],
      "metadata": {
        "colab": {
          "base_uri": "https://localhost:8080/"
        },
        "id": "sBGd5z_c5x_7",
        "outputId": "537b08d0-7e3b-47bc-a350-eacac55ff8b0"
      },
      "execution_count": 9,
      "outputs": [
        {
          "output_type": "stream",
          "name": "stdout",
          "text": [
            "Number of fifty rupees notes=6, Number of twenty rupees notes=10, number of ten rupees notes=9\n"
          ]
        }
      ]
    },
    {
      "cell_type": "markdown",
      "source": [
        "**Conclusion(2) : Number of fifty rupees notes=6, Number of twenty rupees notes=10, number of ten rupees notes=9**"
      ],
      "metadata": {
        "id": "ajRP6c73Y_K6"
      }
    },
    {
      "cell_type": "markdown",
      "source": [
        "**--------------------------------------------------------------------------------------------------------------------------------------------**"
      ],
      "metadata": {
        "id": "1mP43VeDikFB"
      }
    },
    {
      "cell_type": "markdown",
      "source": [
        "**Question - 3**\n",
        "\n",
        "\n",
        "**The organizers of an essay competition decide that a winner in the competition gets a prize of 100 and a participant who does not win gets a prize of  25. The total prize money distributed is 3,000. Find the number of winners, if the total number of participants is 63.**"
      ],
      "metadata": {
        "id": "cYi8gnXLhQIA"
      }
    },
    {
      "cell_type": "code",
      "source": [
        "#Approach : \n",
        "# Let's say winners = x, losers = y, So  x + y = 63\n",
        "# winner * 100 + loser * 25 = total_money_distributed\n",
        "# 100 * x + 25 * y = 3000\n",
        "#Now we will solve these two equations two find two unknowns\n",
        "\n",
        "from sympy import symbols, Eq, solve\n",
        "\n",
        "x, y = symbols('x y')\n",
        "\n",
        "eq1 = Eq(100 * x + 25 * y,  3000)\n",
        "eq2 = Eq(x + y, 63)\n"
      ],
      "metadata": {
        "id": "ZTzuV0lgCZLE"
      },
      "execution_count": 10,
      "outputs": []
    },
    {
      "cell_type": "code",
      "source": [
        "solve((eq1,eq2), (x, y))"
      ],
      "metadata": {
        "colab": {
          "base_uri": "https://localhost:8080/"
        },
        "id": "zFOhNGrCCozD",
        "outputId": "8baca60e-e8ed-4474-d458-63dcae5d5826"
      },
      "execution_count": 11,
      "outputs": [
        {
          "output_type": "execute_result",
          "data": {
            "text/plain": [
              "{x: 19, y: 44}"
            ]
          },
          "metadata": {},
          "execution_count": 11
        }
      ]
    },
    {
      "cell_type": "markdown",
      "source": [
        "**Conclusion(3) : So, No of Winners is 19.**"
      ],
      "metadata": {
        "id": "7_YQqsyY75Yw"
      }
    },
    {
      "cell_type": "markdown",
      "source": [
        "**--------------------------------------------------------------------------------------------------------------------------------------------**"
      ],
      "metadata": {
        "id": "tIiQuYVBilzN"
      }
    },
    {
      "cell_type": "markdown",
      "source": [
        "**Question - 4**\n",
        "\n",
        "**The sum of three consecutive multiples of 11 is 363. Find these multiples**"
      ],
      "metadata": {
        "id": "_gvLRqL5hZL1"
      }
    },
    {
      "cell_type": "code",
      "source": [
        "# Approach:\n",
        "# Let's say the three consecutive multiples of 11 are -> 11x, 11x+11, 11x+22\n",
        "# So according to problem statement the sum of all these multiples should be 362\n",
        "# 11x + (11x+11) + (11x+22) = 363\n",
        "# Now, we can solve these equations to get the value of x.\n",
        "\n",
        "from sympy import symbols, Eq, solve\n",
        "\n",
        "x = symbols('x')\n",
        "\n",
        "\n",
        "eq1 = Eq(11 * x + 11 * x + 11 + 11 * x + 22, 363)"
      ],
      "metadata": {
        "id": "AeIT8mpu7Ine"
      },
      "execution_count": 12,
      "outputs": []
    },
    {
      "cell_type": "code",
      "source": [
        "ans = solve(eq1)\n",
        "\n",
        "num = int(''.join(map(str,ans)))\n",
        "num"
      ],
      "metadata": {
        "colab": {
          "base_uri": "https://localhost:8080/"
        },
        "id": "Eocefxsl9XTG",
        "outputId": "971ca21b-ff73-411a-89d4-597c59983f83"
      },
      "execution_count": 13,
      "outputs": [
        {
          "output_type": "execute_result",
          "data": {
            "text/plain": [
              "10"
            ]
          },
          "metadata": {},
          "execution_count": 13
        }
      ]
    },
    {
      "cell_type": "code",
      "source": [
        "#After finding the value of x, we can put this in our all three consecutive elements to get the real multiples\n",
        "final_ans = [11 * num, 11 * num + 11, 11 * num + 22]\n",
        "final_ans"
      ],
      "metadata": {
        "colab": {
          "base_uri": "https://localhost:8080/"
        },
        "id": "lwKo10OI-bpg",
        "outputId": "7589f2c4-940d-4daa-addd-13fa1f7da4d5"
      },
      "execution_count": 14,
      "outputs": [
        {
          "output_type": "execute_result",
          "data": {
            "text/plain": [
              "[110, 121, 132]"
            ]
          },
          "metadata": {},
          "execution_count": 14
        }
      ]
    },
    {
      "cell_type": "markdown",
      "source": [
        "**Conclusion(4)**\n",
        "\n",
        "**So the three consecutive multiples of 11, whose sum is 363 are 110, 121 and 132.**"
      ],
      "metadata": {
        "id": "Ym5cyaCK9NJc"
      }
    },
    {
      "cell_type": "markdown",
      "source": [
        "**--------------------------------------------------------------------------------------------------------------------------------------------**"
      ],
      "metadata": {
        "id": "je0YJhtUio6S"
      }
    },
    {
      "cell_type": "markdown",
      "source": [
        "**Question - 5**\n",
        "\n",
        "**The digits of a two-digit number differ by 3. If the digits are interchanged,**\n",
        "**and the resulting number is added to the original number, we get 143. What can** **be the original number?**"
      ],
      "metadata": {
        "id": "QwMJszbPhhIs"
      }
    },
    {
      "cell_type": "code",
      "source": [
        "#Approach: \n",
        "# Let x is the 10th digit of the number \n",
        "#Let y is 1st place of number\n",
        "#So, According to the problem statement\n",
        "# x-y=3\n",
        "# 11x+11y=143\n",
        "\n",
        "from sympy import symbols, Eq, solve\n",
        "x, y = symbols('x y')\n",
        "\n",
        "eq1 = Eq(x - y, 3)\n",
        "eq2 = Eq(x + y, 13)\n",
        "solve((eq1,eq2), (x, y))"
      ],
      "metadata": {
        "id": "i-zC2ps6hmRt",
        "colab": {
          "base_uri": "https://localhost:8080/"
        },
        "outputId": "13c9b686-afeb-44c3-b6ac-e84ff427a282"
      },
      "execution_count": 15,
      "outputs": [
        {
          "output_type": "execute_result",
          "data": {
            "text/plain": [
              "{x: 8, y: 5}"
            ]
          },
          "metadata": {},
          "execution_count": 15
        }
      ]
    },
    {
      "cell_type": "markdown",
      "source": [
        "**Conclusion (5) : The number is 85. and those two digits are 8 and 5. 8 is the 10th digit and 5 is the first digit. Here difference between both the digits is 3. And after interchanging the digits number is 58. Now sum is 85 + 58 = 143.**\n",
        "\n",
        "**So number is 85.**\n"
      ],
      "metadata": {
        "id": "AaBSQ8eI-scP"
      }
    },
    {
      "cell_type": "markdown",
      "source": [
        "**--------------------------------------------------------------------------------------------------------------------------------------------**"
      ],
      "metadata": {
        "id": "AcngFgW9iqwq"
      }
    },
    {
      "cell_type": "markdown",
      "source": [
        "**Question 6:**\n",
        "\n",
        "![image.png](data:image/png;base64,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)\n"
      ],
      "metadata": {
        "id": "TIXlqnnkXzsz"
      }
    },
    {
      "cell_type": "code",
      "source": [
        "from sympy import symbols, Eq, solve\n",
        "\n",
        "x = symbols('x')\n",
        "\n",
        "eq1 = Eq(5 * x - 2 * (2 * x - 7), 2*(3*x-1)+ 7/2)"
      ],
      "metadata": {
        "id": "6QuzC9CwX7CN"
      },
      "execution_count": 16,
      "outputs": []
    },
    {
      "cell_type": "code",
      "source": [
        "print(solve(eq1,x))"
      ],
      "metadata": {
        "colab": {
          "base_uri": "https://localhost:8080/"
        },
        "id": "n6otHdEkYIXG",
        "outputId": "df662bd0-3937-4afa-a3eb-6e0ea2a1515c"
      },
      "execution_count": 17,
      "outputs": [
        {
          "output_type": "stream",
          "name": "stdout",
          "text": [
            "[2.50000000000000]\n"
          ]
        }
      ]
    },
    {
      "cell_type": "markdown",
      "source": [
        "**Conclusion (6):  The value after solving above equaion is 2.50**"
      ],
      "metadata": {
        "id": "8MW86WmEYg0h"
      }
    },
    {
      "cell_type": "markdown",
      "source": [
        "**--------------------------------------------------------------------------------------------------------------------------------------------**"
      ],
      "metadata": {
        "id": "B8IecqJCiscW"
      }
    },
    {
      "cell_type": "markdown",
      "source": [
        "**Question - 7**\n",
        "\n",
        "**Find the area of the region included between the parabola y2 = x and the line x + y = 2 and the X-axis.**"
      ],
      "metadata": {
        "id": "wFThomLmhpCm"
      }
    },
    {
      "cell_type": "code",
      "source": [
        "#Approach:\n",
        "# Here we have two equations -> Parabola and a line \n",
        "# First we will solve these equations to get the value of unknowns. (We'll get the intersection points from here.)\n",
        "\n",
        "from sympy import symbols, Eq, solve\n",
        "\n",
        "x, y = symbols('x y')\n",
        "\n",
        "eq1 = Eq(x + y - 2, 0)\n",
        "eq2 = Eq(y ** 2 - x, 0)"
      ],
      "metadata": {
        "id": "yPkmHeC6EAUz"
      },
      "execution_count": 18,
      "outputs": []
    },
    {
      "cell_type": "code",
      "source": [
        "solve((eq1,eq2), (x, y))\n",
        "\n",
        "# Here we got the points\n",
        "# Now we need to find the area of shaded reason on y-axis\n",
        "# So, we will use -2 to 1 as limits."
      ],
      "metadata": {
        "colab": {
          "base_uri": "https://localhost:8080/"
        },
        "id": "QHh0ZkvYEWFB",
        "outputId": "e000f927-ac3c-4f65-b6f9-88e4e71b1165"
      },
      "execution_count": 19,
      "outputs": [
        {
          "output_type": "execute_result",
          "data": {
            "text/plain": [
              "[(1, 1), (4, -2)]"
            ]
          },
          "metadata": {},
          "execution_count": 19
        }
      ]
    },
    {
      "cell_type": "markdown",
      "source": [
        "So the required area, we can calculate using:\n",
        "\n",
        "![image.png](data:image/png;base64,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)"
      ],
      "metadata": {
        "id": "5rqIaDMrVzJW"
      }
    },
    {
      "cell_type": "code",
      "source": [
        "import numpy as np\n",
        "y = np.linspace(-3, 2, 10)\n",
        "plt.plot(y, f1(y))\n",
        "plt.plot(y, f2(y))\n",
        "plt.fill_between(y, f1(y), f2(y), where=[(y > -2) and (y < 1) for y in y])\n",
        "plt.show()"
      ],
      "metadata": {
        "colab": {
          "base_uri": "https://localhost:8080/",
          "height": 265
        },
        "id": "eZ0bJKfXGgxY",
        "outputId": "cd0b82f8-1b26-4753-f62a-af5050c5d48b"
      },
      "execution_count": 46,
      "outputs": [
        {
          "output_type": "display_data",
          "data": {
            "text/plain": [
              "<Figure size 432x288 with 1 Axes>"
            ],
            "image/png": "[encoded data removed]"
          },
          "metadata": {
            "needs_background": "light"
          }
        }
      ]
    },
    {
      "cell_type": "code",
      "source": [
        "import matplotlib.pyplot as plt\n",
        "import numpy as np\n",
        "import sympy as sy\n",
        "\n",
        "\n",
        "def f1(y):\n",
        "\treturn 2 - y\n",
        "\n",
        "def f2(y):\n",
        "  return y ** 2\n",
        "\n",
        "y = sy.Symbol(\"y\")\n",
        "\n",
        "\n",
        "print(\"Area under the curve is \", sy.integrate(f1(y) - f2(y), (y, -2, 1)))\n",
        "\n"
      ],
      "metadata": {
        "colab": {
          "base_uri": "https://localhost:8080/"
        },
        "id": "qSiPCQspFlJ3",
        "outputId": "37146492-4c7a-4ebb-9493-b9492f49cdf5"
      },
      "execution_count": 21,
      "outputs": [
        {
          "output_type": "stream",
          "name": "stdout",
          "text": [
            "Area under the curve is  9/2\n"
          ]
        }
      ]
    },
    {
      "cell_type": "markdown",
      "source": [
        "**Conclusion(7) :**\n",
        "\n",
        "**The area of the region included between the parabola y2 = x and the line x + y = 2 and the X-axis is 9/2 Sq. unit.**"
      ],
      "metadata": {
        "id": "g74vWI64W-f8"
      }
    },
    {
      "cell_type": "markdown",
      "source": [
        "**--------------------------------------------------------------------------------------------------------------------------------------------**"
      ],
      "metadata": {
        "id": "OsS_06dViydl"
      }
    },
    {
      "cell_type": "markdown",
      "source": [
        "**Question : 8**\n",
        "\n",
        "**A manufacturer produces three models of toys in the form of bikes say X,Y and Z**\n",
        ".**Model X takes as 10 man-hour to make per unit, Model Y takes 5 man-hour per unit and model Z takes 4 man-hour per unit. There are a total 212 man-hour available per week. Handling and marketing costs are <20, <30 and <40 per unit for models X,Y and Z respectively. The total funds available for these purposes are <920 per week. Profits per unit for models X,Y and Z are <40, <10and <70 respectively, but at the end of the week, company get a profit of <810. Solve the system of equations by matrix method.**"
      ],
      "metadata": {
        "id": "IY6p-OF4hxQ0"
      }
    },
    {
      "cell_type": "code",
      "source": [
        "# Approach:\n",
        "# Here we are forming three equations using above data that are as as follows:\n",
        "# 10x+5y+4z <= 212, 20x+30y+40z<=920, 40x+10y+70z<=810\n",
        "\n",
        "#Since we have not been provided the Z (Max/Min function), we are assuming here that we just need to solve the above three equations for three unknowns. (Considering <= -> =)\n",
        "\n",
        "\n",
        "\n",
        "import numpy as np\n",
        "from scipy.linalg import solve\n",
        "\n",
        "# Values Matrix\n",
        "values = np.array([[10,5,4],\n",
        "                       [20,30,40],\n",
        "                        [40,10,70]])\n",
        "\n",
        "# Cost Matrix\n",
        "costs = np.array([212,920,810])\n",
        "\n",
        "\n",
        "x = solve(values, costs)\n",
        "print(*x)"
      ],
      "metadata": {
        "id": "nFOtk1Mahu6N",
        "colab": {
          "base_uri": "https://localhost:8080/"
        },
        "outputId": "efbc7682-087e-4a22-b4e5-f92eb0da43f7"
      },
      "execution_count": 22,
      "outputs": [
        {
          "output_type": "stream",
          "name": "stdout",
          "text": [
            "10.0 20.0 3.0\n"
          ]
        }
      ]
    },
    {
      "cell_type": "markdown",
      "source": [
        "**Conclusion :  Here after solving using above problem using Matrix Method, I got values 10,20 and 30 for unknown variables x,y and z.**\n",
        "\n",
        "\n",
        "**Here, I also explored pulp library in Python, where we can solve these kind of Linear Programming problems to maximize/minimize profits etc.**"
      ],
      "metadata": {
        "id": "A2kStA5ghkZ1"
      }
    },
    {
      "cell_type": "markdown",
      "source": [
        "**--------------------------------------------------------------------------------------------------------------------------------------------**"
      ],
      "metadata": {
        "id": "Tp4Ulxgoi6Tv"
      }
    },
    {
      "cell_type": "markdown",
      "source": [
        "**Question - 9**\n",
        "\n",
        "\n",
        "\n",
        "![image.png](data:image/png;base64,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)"
      ],
      "metadata": {
        "id": "t6ifAa9RNcmH"
      }
    },
    {
      "cell_type": "code",
      "source": [
        "# Approach:\n",
        "# We can solve it using :\n",
        "\n",
        "# I run a loop from -pi/2 to +pi/2\n",
        "# To check if there is a point where the above equalities doesn't exist.\n",
        "# Then we can say this is FALSE.\n",
        "\n",
        "\n",
        "#Other way could be, that we can use sympy library to verify the equation, as follows:\n",
        "\n",
        "from math import sin, radians,cos,atan,pi\n",
        "from sympy import symbols, Eq, solve\n",
        "x = symbols('x')"
      ],
      "metadata": {
        "id": "7qdLqmd19ST3"
      },
      "execution_count": 44,
      "outputs": []
    },
    {
      "cell_type": "code",
      "source": [
        "lhs=atan((cos(x))//(1-sin(x)))\n",
        "res2=((pi)/4) +(x/2)\n",
        "\n",
        "eq_2 = Eq(res1, res2)\n",
        "eq_2"
      ],
      "metadata": {
        "colab": {
          "base_uri": "https://localhost:8080/",
          "height": 37
        },
        "id": "997b4f9w_oNp",
        "outputId": "9f2e8fcd-39bd-45c1-a2f9-a6cf17abb455"
      },
      "execution_count": 43,
      "outputs": [
        {
          "output_type": "execute_result",
          "data": {
            "text/plain": [
              "True"
            ],
            "text/latex": "$\\displaystyle \\text{True}$"
          },
          "metadata": {},
          "execution_count": 43
        }
      ]
    },
    {
      "cell_type": "markdown",
      "source": [
        "**Conclusion: Here LHS = RHS, hence proved.**"
      ],
      "metadata": {
        "id": "uHIwKiLdAcmU"
      }
    },
    {
      "cell_type": "code",
      "source": [
        "# Testing on running the loop over the complete domain,\n",
        "\n",
        "# But python doesn't support runnning a loop over float values. So this is not a good approach.\n",
        "\n",
        "from math import sin, radians,cos,atan,pi\n",
        "rad1 = int(radians(-90))\n",
        "rad2 = int(radians(90))"
      ],
      "metadata": {
        "id": "TTVZ3jKt90qT"
      },
      "execution_count": 41,
      "outputs": []
    },
    {
      "cell_type": "code",
      "source": [
        "flag=0\n",
        "for x in range(rad1,rad2):\n",
        "  res1=atan((cos(x))//(1-sin(x)))\n",
        "  res2=((pi)/4) +(x/2)\n",
        "  if res1!=res2:\n",
        "    flag=1\n",
        "\n",
        "print(flag)\n"
      ],
      "metadata": {
        "colab": {
          "base_uri": "https://localhost:8080/"
        },
        "id": "P9YfTV2q91N8",
        "outputId": "46c4d819-dd2f-41cb-f3f5-88aa26539e2f"
      },
      "execution_count": 42,
      "outputs": [
        {
          "output_type": "stream",
          "name": "stdout",
          "text": [
            "1\n"
          ]
        }
      ]
    },
    {
      "cell_type": "markdown",
      "source": [
        "## **THANK YOU!**\n",
        "\n",
        "I really enjoyed doing this assignment. Looking forward for your feedback.\n",
        "\n",
        "**-Rajat Mittal**\n"
      ],
      "metadata": {
        "id": "mGY7Vq4FBMKD"
      }
    }
  ]
}